{
  "nbformat": 4,
  "nbformat_minor": 0,
  "metadata": {
    "colab": {
      "provenance": []
    },
    "kernelspec": {
      "name": "python3",
      "display_name": "Python 3"
    },
    "language_info": {
      "name": "python"
    }
  },
  "cells": [
    {
      "cell_type": "code",
      "source": [
        "pip install RPi.GPIO"
      ],
      "metadata": {
        "colab": {
          "base_uri": "https://localhost:8080/"
        },
        "id": "58nTREtAV2mY",
        "outputId": "b694ae08-1b58-4889-979f-32f122b0bd18"
      },
      "execution_count": 2,
      "outputs": [
        {
          "output_type": "stream",
          "name": "stdout",
          "text": [
            "Collecting RPi.GPIO\n",
            "  Downloading RPi.GPIO-0.7.1.tar.gz (29 kB)\n",
            "  Preparing metadata (setup.py) ... \u001b[?25l\u001b[?25hdone\n",
            "Building wheels for collected packages: RPi.GPIO\n",
            "  Building wheel for RPi.GPIO (setup.py) ... \u001b[?25l\u001b[?25hdone\n",
            "  Created wheel for RPi.GPIO: filename=RPi.GPIO-0.7.1-cp310-cp310-linux_x86_64.whl size=71715 sha256=f2784babef02477a82940ee8f6726f6a2a28bdc2785c8687276e2a5c272f1fc7\n",
            "  Stored in directory: /root/.cache/pip/wheels/01/87/cc/db7d6af3c88be9bf050abd43a7e63ae99c93a678fd9e00addd\n",
            "Successfully built RPi.GPIO\n",
            "Installing collected packages: RPi.GPIO\n",
            "Successfully installed RPi.GPIO-0.7.1\n"
          ]
        }
      ]
    },
    {
      "cell_type": "code",
      "source": [
        "pip install awsiotsdk"
      ],
      "metadata": {
        "colab": {
          "base_uri": "https://localhost:8080/"
        },
        "id": "KDtssNifdH6L",
        "outputId": "0adf3d0c-e6d7-4b1a-d642-b66db8d3c042"
      },
      "execution_count": 8,
      "outputs": [
        {
          "output_type": "stream",
          "name": "stdout",
          "text": [
            "Collecting awsiotsdk\n",
            "  Downloading awsiotsdk-1.19.0-py3-none-any.whl (74 kB)\n",
            "\u001b[2K     \u001b[90m━━━━━━━━━━━━━━━━━━━━━━━━━━━━━━━━━━━━━━━━\u001b[0m \u001b[32m74.4/74.4 kB\u001b[0m \u001b[31m1.8 MB/s\u001b[0m eta \u001b[36m0:00:00\u001b[0m\n",
            "\u001b[?25hCollecting awscrt==0.19.1 (from awsiotsdk)\n",
            "  Downloading awscrt-0.19.1-cp310-cp310-manylinux_2_17_x86_64.manylinux2014_x86_64.whl (7.9 MB)\n",
            "\u001b[2K     \u001b[90m━━━━━━━━━━━━━━━━━━━━━━━━━━━━━━━━━━━━━━━━\u001b[0m \u001b[32m7.9/7.9 MB\u001b[0m \u001b[31m16.1 MB/s\u001b[0m eta \u001b[36m0:00:00\u001b[0m\n",
            "\u001b[?25hInstalling collected packages: awscrt, awsiotsdk\n",
            "Successfully installed awscrt-0.19.1 awsiotsdk-1.19.0\n"
          ]
        }
      ]
    },
    {
      "cell_type": "code",
      "execution_count": 3,
      "metadata": {
        "colab": {
          "base_uri": "https://localhost:8080/",
          "height": 385
        },
        "id": "uWU0l4wlVLGp",
        "outputId": "8998ea1d-6c81-4a27-ed4e-0b4cf1a0c106"
      },
      "outputs": [
        {
          "output_type": "error",
          "ename": "RuntimeError",
          "evalue": "ignored",
          "traceback": [
            "\u001b[0;31m---------------------------------------------------------------------------\u001b[0m",
            "\u001b[0;31mRuntimeError\u001b[0m                              Traceback (most recent call last)",
            "\u001b[0;32m<ipython-input-3-8f7f5068bebd>\u001b[0m in \u001b[0;36m<cell line: 1>\u001b[0;34m()\u001b[0m\n\u001b[0;32m----> 1\u001b[0;31m \u001b[0;32mimport\u001b[0m \u001b[0mRPi\u001b[0m\u001b[0;34m.\u001b[0m\u001b[0mGPIO\u001b[0m \u001b[0;32mas\u001b[0m \u001b[0mGPIO\u001b[0m\u001b[0;34m\u001b[0m\u001b[0;34m\u001b[0m\u001b[0m\n\u001b[0m\u001b[1;32m      2\u001b[0m \u001b[0;32mimport\u001b[0m \u001b[0mtime\u001b[0m\u001b[0;34m\u001b[0m\u001b[0;34m\u001b[0m\u001b[0m\n\u001b[1;32m      3\u001b[0m \u001b[0;32mimport\u001b[0m \u001b[0mjson\u001b[0m\u001b[0;34m\u001b[0m\u001b[0;34m\u001b[0m\u001b[0m\n\u001b[1;32m      4\u001b[0m \u001b[0;32mfrom\u001b[0m \u001b[0mAWSIoTPythonSDK\u001b[0m\u001b[0;34m.\u001b[0m\u001b[0mMQTTLib\u001b[0m \u001b[0;32mimport\u001b[0m \u001b[0mAWSIoTMQTTClient\u001b[0m\u001b[0;34m\u001b[0m\u001b[0;34m\u001b[0m\u001b[0m\n\u001b[1;32m      5\u001b[0m \u001b[0;34m\u001b[0m\u001b[0m\n",
            "\u001b[0;32m/usr/local/lib/python3.10/dist-packages/RPi/GPIO/__init__.py\u001b[0m in \u001b[0;36m<module>\u001b[0;34m\u001b[0m\n\u001b[1;32m     21\u001b[0m \u001b[0;34m\"\"\"This package provides a Python module to control the GPIO on a Raspberry Pi\"\"\"\u001b[0m\u001b[0;34m\u001b[0m\u001b[0;34m\u001b[0m\u001b[0m\n\u001b[1;32m     22\u001b[0m \u001b[0;34m\u001b[0m\u001b[0m\n\u001b[0;32m---> 23\u001b[0;31m \u001b[0;32mfrom\u001b[0m \u001b[0mRPi\u001b[0m\u001b[0;34m.\u001b[0m\u001b[0m_GPIO\u001b[0m \u001b[0;32mimport\u001b[0m \u001b[0;34m*\u001b[0m\u001b[0;34m\u001b[0m\u001b[0;34m\u001b[0m\u001b[0m\n\u001b[0m\u001b[1;32m     24\u001b[0m \u001b[0;34m\u001b[0m\u001b[0m\n\u001b[1;32m     25\u001b[0m \u001b[0mVERSION\u001b[0m \u001b[0;34m=\u001b[0m \u001b[0;34m'0.7.1'\u001b[0m\u001b[0;34m\u001b[0m\u001b[0;34m\u001b[0m\u001b[0m\n",
            "\u001b[0;31mRuntimeError\u001b[0m: This module can only be run on a Raspberry Pi!"
          ]
        }
      ],
      "source": [
        "import RPi.GPIO as GPIO\n",
        "import time\n",
        "import json\n",
        "from AWSIoTPythonSDK.MQTTLib import AWSIoTMQTTClient\n",
        "\n",
        "GPIO.setmode(GPIO.BCM)\n",
        "GPIO_TRIGGER = 23\n",
        "GPIO_ECHO = 24\n",
        "GPIO.setup(GPIO_TRIGGER, GPIO.OUT)\n",
        "GPIO.setup(GPIO_ECHO, GPIO.IN)\n",
        "\n",
        "client = AWSIoTMQTTClient(\"waste_management_system\")\n",
        "client.configureEndpoint(\"your-aws-iot-endpoint\", 8883)\n",
        "client.configureCredentials(\"path-to-root-ca\", \"path-to-private-key\", \"path-to-certificate\")\n",
        "\n",
        "client.connect()\n",
        "\n",
        "def measure_distance():\n",
        "    GPIO.output(GPIO_TRIGGER, True)\n",
        "    time.sleep(0.00001)\n",
        "    GPIO.output(GPIO_TRIGGER, False)\n",
        "\n",
        "    start_time = time.time()\n",
        "    stop_time = time.time()\n",
        "\n",
        "    while GPIO.input(GPIO_ECHO) == 0:\n",
        "        start_time = time.time()\n",
        "\n",
        "    while GPIO.input(GPIO_ECHO) == 1:\n",
        "        stop_time = time.time()\n",
        "\n",
        "    elapsed_time = stop_time - start_time\n",
        "    distance = (elapsed_time * 34300) / 2\n",
        "\n",
        "    return distance\n",
        "\n",
        "def get_location():\n",
        "    pass\n",
        "\n",
        "while True:\n",
        "    fill_level = measure_distance()\n",
        "    location = get_location()\n",
        "\n",
        "    payload = {\n",
        "        \"fill_level\": fill_level,\n",
        "        \"location\": location\n",
        "    }\n",
        "\n",
        "    client.publish(\"waste_bins\", json.dumps(payload), 1)\n",
        "\n",
        "    time.sleep(10)"
      ]
    }
  ]
}